{
 "cells": [
  {
   "cell_type": "code",
   "execution_count": null,
   "metadata": {
    "collapsed": true
   },
   "outputs": [],
   "source": [
    "from IPython.display import display, Markdown, clear_output\n",
    "from ParseData import GameMode\n",
    "import ipywidgets as widgets\n",
    "\n",
    "\n",
    "\n",
    "mode_selector = widgets.Dropdown(\n",
    "       options=[\n",
    "           \"ALL\",\n",
    "            GameMode.CLASSIC.name,\n",
    "            GameMode.ARAM.name,\n",
    "            GameMode.ONEFORALL.name,\n",
    "            GameMode.SNOWURF.name,\n",
    "            GameMode.STARGUARDIAN.name,\n",
    "            GameMode.ASSASSINATE.name,\n",
    "            GameMode.ASCENSION.name,\n",
    "       ],\n",
    "       value=\"ALL\",\n",
    "       description='GameMode:')\n",
    "\n",
    "\n",
    "calculate_mode_selector = widgets.Button(description='Calculate')\n"
   ]
  }
 ],
 "metadata": {
  "kernelspec": {
   "display_name": "Python 2",
   "language": "python",
   "name": "python2"
  },
  "language_info": {
   "codemirror_mode": {
    "name": "ipython",
    "version": 2
   },
   "file_extension": ".py",
   "mimetype": "text/x-python",
   "name": "python",
   "nbconvert_exporter": "python",
   "pygments_lexer": "ipython2",
   "version": "2.7.6"
  }
 },
 "nbformat": 4,
 "nbformat_minor": 0
}
