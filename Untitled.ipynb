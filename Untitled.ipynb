{
 "cells": [
  {
   "cell_type": "code",
   "execution_count": null,
   "metadata": {},
   "outputs": [],
   "source": [
    "import altair as alt\n",
    "import pandas as pd\n",
    "from ParseData import GameMode, K, parse_data, Side\n",
    "from IPython.display import display, Markdown, clear_output, Javascript\n",
    "import ipywidgets as widgets\n",
    "from ParsePosition import parse_positions\n",
    "\n",
    "%run Widget.ipynb\n"
   ]
  },
  {
   "cell_type": "code",
   "execution_count": null,
   "metadata": {},
   "outputs": [],
   "source": [
    "mode_selector"
   ]
  },
  {
   "cell_type": "code",
   "execution_count": null,
   "metadata": {},
   "outputs": [],
   "source": [
    "%run GamesBarGraph.ipynb\n",
    "\n",
    "data = parse_data()\n",
    "gameMode = mode_selector.value\n",
    "if gameMode != \"ALL\":\n",
    "    data = data.loc[data[K.gameMode.value] == gameMode]\n",
    "\n",
    "\n",
    "brush = alt.selection(fields=[K.gameId.value], type='interval', encodings=['x'])\n",
    "\n",
    "histo = generate_games_played_dataset(data, brush)\n",
    "gameMode = generate_game_mode_histogram(data, brush)\n",
    "gameDuration = generate_game_duration_histogram(data, brush)\n",
    "winR = generate_win_ratio_graph(data, brush)\n",
    "champ = generate_champ_bar_histogram(data, brush)\n",
    "\n",
    "alt.vconcat(alt.hconcat(alt.vconcat(alt.hconcat(histo, gameMode),alt.hconcat(gameDuration, winR), champ)))"
   ]
  },
  {
   "cell_type": "code",
   "execution_count": null,
   "metadata": {},
   "outputs": [],
   "source": [
    "%run GamesBarGraph.ipynb\n",
    "\n",
    "alt.data_transformers.enable('default', max_rows=None)\n",
    "\n",
    "pData = parse_positions()\n",
    "brush2 = alt.selection(fields=[K.gameId.value], type='interval', encodings=['x'])\n",
    "\n",
    "champ = generate_position_champ_bar(pData, brush2)\n",
    "points, heatmap = generate_position_map(pData, brush2)\n",
    "alt.hconcat(champ, alt.vconcat(points, heatmap))\n",
    "\n",
    "\n",
    "\n"
   ]
  },
  {
   "cell_type": "code",
   "execution_count": null,
   "metadata": {},
   "outputs": [],
   "source": []
  }
 ],
 "metadata": {
  "kernelspec": {
   "display_name": "Python 3",
   "language": "python",
   "name": "python3"
  },
  "language_info": {
   "codemirror_mode": {
    "name": "ipython",
    "version": 3
   },
   "file_extension": ".py",
   "mimetype": "text/x-python",
   "name": "python",
   "nbconvert_exporter": "python",
   "pygments_lexer": "ipython3",
   "version": "3.6.7"
  }
 },
 "nbformat": 4,
 "nbformat_minor": 2
}
